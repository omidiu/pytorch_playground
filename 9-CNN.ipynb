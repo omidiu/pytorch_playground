{
 "cells": [
  {
   "cell_type": "markdown",
   "source": [
    "## Import packages"
   ],
   "metadata": {
    "collapsed": false
   }
  },
  {
   "cell_type": "code",
   "execution_count": 17,
   "metadata": {
    "collapsed": true
   },
   "outputs": [],
   "source": [
    "import torch\n",
    "import torch.nn as nn\n",
    "import torch.nn.functional as F\n",
    "import torchvision\n",
    "import torchvision.transforms as transforms\n",
    "import matplotlib.pyplot as plt\n",
    "import numpy as np\n"
   ]
  },
  {
   "cell_type": "code",
   "execution_count": 18,
   "outputs": [],
   "source": [
    "device_name = 'cuda' if torch.cuda.is_available() else 'cpu'\n",
    "device = torch.device(device_name)"
   ],
   "metadata": {
    "collapsed": false
   }
  },
  {
   "cell_type": "code",
   "execution_count": 19,
   "outputs": [],
   "source": [
    "num_epochs = 5\n",
    "batch_size = 4\n",
    "learning_rate = 0.001"
   ],
   "metadata": {
    "collapsed": false
   }
  },
  {
   "cell_type": "code",
   "execution_count": 20,
   "outputs": [
    {
     "name": "stdout",
     "output_type": "stream",
     "text": [
      "Files already downloaded and verified\n",
      "Files already downloaded and verified\n"
     ]
    }
   ],
   "source": [
    "# dataset has PILImage images of range [0, 1].\n",
    "# We transform them to Tensors of normalized range [-1, 1]\n",
    "transform = transforms.Compose([transforms.ToTensor(),\n",
    "                                transforms.Normalize((0.5, 0.5, 0.5), (0.5, 0.5, 0.5))])\n",
    "\n",
    "train_dataset = torchvision.datasets.CIFAR10(root='./data', train=True,\n",
    "                                             download=True, transform=transform)\n",
    "\n",
    "test_dataset = torchvision.datasets.CIFAR10(root='./data', train=False,\n",
    "                                            download=True, transform=transform)\n",
    "\n",
    "train_loader = torch.utils.data.DataLoader(train_dataset, batch_size=batch_size,\n",
    "                                           shuffle=True)\n",
    "\n",
    "test_loader = torch.utils.data.DataLoader(test_dataset, batch_size=batch_size,\n",
    "                                          shuffle=False)"
   ],
   "metadata": {
    "collapsed": false
   }
  },
  {
   "cell_type": "code",
   "execution_count": 21,
   "outputs": [],
   "source": [
    "classes = ('plane', 'car', 'bird', 'cat',\n",
    "           'deer', 'dog', 'frog', 'horse', 'ship', 'truck')"
   ],
   "metadata": {
    "collapsed": false
   }
  },
  {
   "cell_type": "code",
   "execution_count": 22,
   "outputs": [],
   "source": [
    "def imshow(img):\n",
    "    img = img / 2 + 0.5  # unnormalize\n",
    "    npimg = img.numpy()\n",
    "    plt.imshow(np.transpose(npimg, (1, 2, 0)))\n",
    "    plt.show()"
   ],
   "metadata": {
    "collapsed": false
   }
  },
  {
   "cell_type": "code",
   "execution_count": 23,
   "outputs": [
    {
     "data": {
      "text/plain": "<Figure size 640x480 with 1 Axes>",
      "image/png": "[encoded data removed]"
     },
     "metadata": {},
     "output_type": "display_data"
    }
   ],
   "source": [
    "# get some random training images\n",
    "dataiter = iter(train_loader)\n",
    "images, labels = next(dataiter)\n",
    "\n",
    "# show images\n",
    "imshow(torchvision.utils.make_grid(images))"
   ],
   "metadata": {
    "collapsed": false
   }
  },
  {
   "cell_type": "code",
   "execution_count": 24,
   "outputs": [],
   "source": [
    "class ConvNet(nn.Module):\n",
    "    def __init__(self):\n",
    "        super(ConvNet, self).__init__()\n",
    "        self.conv1 = nn.Conv2d(3, 6, 5)\n",
    "        self.pool = nn.MaxPool2d(2, 2)\n",
    "        self.conv2 = nn.Conv2d(6, 16, 5)\n",
    "        self.fc1 = nn.Linear(16 * 5 * 5, 120)\n",
    "        self.fc2 = nn.Linear(120, 84)\n",
    "        self.fc3 = nn.Linear(84, 10)\n",
    "\n",
    "    def forward(self, x):\n",
    "        # -> n, 3, 32, 32\n",
    "        out = self.pool(F.relu(self.conv1(x)))  # -> n, 6, 14, 14\n",
    "        out = self.pool(F.relu(self.conv2(out)))  # -> n, 16, 5, 5\n",
    "        out = out.view(-1, 16 * 5 * 5)            # -> n, 400\n",
    "        out = F.relu(self.fc1(out))               # -> n, 120\n",
    "        out = F.relu(self.fc2(out))               # -> n, 84\n",
    "        out = self.fc3(out)                       # -> n, 10 (we don't need softmax here) (check criterion below)\n",
    "        return out\n",
    "\n",
    "\n",
    "model = ConvNet().to(device)"
   ],
   "metadata": {
    "collapsed": false
   }
  },
  {
   "cell_type": "code",
   "execution_count": 25,
   "outputs": [],
   "source": [
    "criterion = nn.CrossEntropyLoss()\n",
    "optimizer = torch.optim.SGD(model.parameters(), lr=learning_rate)"
   ],
   "metadata": {
    "collapsed": false
   }
  },
  {
   "cell_type": "code",
   "execution_count": 26,
   "outputs": [
    {
     "name": "stdout",
     "output_type": "stream",
     "text": [
      "Epoch [1/5], Step [2000/12500], Loss: 2.3431\n",
      "Epoch [1/5], Step [4000/12500], Loss: 2.3046\n",
      "Epoch [1/5], Step [6000/12500], Loss: 2.2630\n",
      "Epoch [1/5], Step [8000/12500], Loss: 2.2951\n",
      "Epoch [1/5], Step [10000/12500], Loss: 2.0764\n",
      "Epoch [1/5], Step [12000/12500], Loss: 2.2887\n",
      "Epoch [2/5], Step [2000/12500], Loss: 2.2473\n",
      "Epoch [2/5], Step [4000/12500], Loss: 1.8265\n",
      "Epoch [2/5], Step [6000/12500], Loss: 1.8023\n",
      "Epoch [2/5], Step [8000/12500], Loss: 2.2513\n",
      "Epoch [2/5], Step [10000/12500], Loss: 1.4021\n",
      "Epoch [2/5], Step [12000/12500], Loss: 1.9016\n",
      "Epoch [3/5], Step [2000/12500], Loss: 1.2735\n",
      "Epoch [3/5], Step [4000/12500], Loss: 1.5505\n",
      "Epoch [3/5], Step [6000/12500], Loss: 2.1235\n",
      "Epoch [3/5], Step [8000/12500], Loss: 1.3342\n",
      "Epoch [3/5], Step [10000/12500], Loss: 2.3995\n",
      "Epoch [3/5], Step [12000/12500], Loss: 2.1846\n",
      "Epoch [4/5], Step [2000/12500], Loss: 1.9497\n",
      "Epoch [4/5], Step [4000/12500], Loss: 1.0932\n",
      "Epoch [4/5], Step [6000/12500], Loss: 1.7177\n",
      "Epoch [4/5], Step [8000/12500], Loss: 0.9765\n",
      "Epoch [4/5], Step [10000/12500], Loss: 0.9199\n",
      "Epoch [4/5], Step [12000/12500], Loss: 1.9196\n",
      "Epoch [5/5], Step [2000/12500], Loss: 1.3355\n",
      "Epoch [5/5], Step [4000/12500], Loss: 0.8685\n",
      "Epoch [5/5], Step [6000/12500], Loss: 1.7827\n",
      "Epoch [5/5], Step [8000/12500], Loss: 0.9412\n",
      "Epoch [5/5], Step [10000/12500], Loss: 1.6905\n",
      "Epoch [5/5], Step [12000/12500], Loss: 0.7684\n",
      "Finished Training\n"
     ]
    }
   ],
   "source": [
    "n_total_steps = len(train_loader)\n",
    "for epoch in range(num_epochs):\n",
    "    for i, (images, labels) in enumerate(train_loader):\n",
    "        # origin shape: [4, 3, 32, 32] = 4, 3, 1024\n",
    "        # input_layer: 3 input channels, 6 output channels, 5 kernel size\n",
    "        images = images.to(device)\n",
    "        labels = labels.to(device)\n",
    "\n",
    "        # Forward pass\n",
    "        outputs = model(images)\n",
    "        loss = criterion(outputs, labels)\n",
    "\n",
    "        # Backward and optimize\n",
    "        optimizer.zero_grad()\n",
    "        loss.backward()\n",
    "        optimizer.step()\n",
    "\n",
    "        if (i+1) % 2000 == 0:\n",
    "            print (f'Epoch [{epoch+1}/{num_epochs}], Step [{i+1}/{n_total_steps}], Loss: {loss.item():.4f}')\n",
    "\n",
    "print('Finished Training')\n",
    "PATH = './cnn.pth'\n",
    "torch.save(model.state_dict(), PATH)"
   ],
   "metadata": {
    "collapsed": false
   }
  },
  {
   "cell_type": "code",
   "execution_count": 27,
   "outputs": [
    {
     "name": "stdout",
     "output_type": "stream",
     "text": [
      "Accuracy of the network: 48.91 %\n",
      "Accuracy of plane: 53.5 %\n",
      "Accuracy of car: 55.6 %\n",
      "Accuracy of bird: 29.4 %\n",
      "Accuracy of cat: 19.5 %\n",
      "Accuracy of deer: 43.2 %\n",
      "Accuracy of dog: 46.7 %\n",
      "Accuracy of frog: 67.8 %\n",
      "Accuracy of horse: 50.2 %\n",
      "Accuracy of ship: 62.0 %\n",
      "Accuracy of truck: 61.2 %\n"
     ]
    }
   ],
   "source": [
    " with torch.no_grad():\n",
    "    n_correct = 0\n",
    "    n_samples = 0\n",
    "    n_class_correct = [0 for i in range(10)]\n",
    "    n_class_samples = [0 for i in range(10)]\n",
    "    for images, labels in test_loader:\n",
    "        images = images.to(device)\n",
    "        labels = labels.to(device)\n",
    "        outputs = model(images)\n",
    "        # max returns (value ,index)\n",
    "        _, predicted = torch.max(outputs, 1)\n",
    "        n_samples += labels.size(0)\n",
    "        n_correct += (predicted == labels).sum().item()\n",
    "\n",
    "        for i in range(batch_size):\n",
    "            label = labels[i]\n",
    "            pred = predicted[i]\n",
    "            if (label == pred):\n",
    "                n_class_correct[label] += 1\n",
    "            n_class_samples[label] += 1\n",
    "\n",
    "    acc = 100.0 * n_correct / n_samples\n",
    "    print(f'Accuracy of the network: {acc} %')\n",
    "\n",
    "    for i in range(10):\n",
    "        acc = 100.0 * n_class_correct[i] / n_class_samples[i]\n",
    "        print(f'Accuracy of {classes[i]}: {acc} %')"
   ],
   "metadata": {
    "collapsed": false
   }
  },
  {
   "cell_type": "code",
   "execution_count": null,
   "outputs": [],
   "source": [],
   "metadata": {
    "collapsed": false
   }
  }
 ],
 "metadata": {
  "kernelspec": {
   "display_name": "Python 3",
   "language": "python",
   "name": "python3"
  },
  "language_info": {
   "codemirror_mode": {
    "name": "ipython",
    "version": 2
   },
   "file_extension": ".py",
   "mimetype": "text/x-python",
   "name": "python",
   "nbconvert_exporter": "python",
   "pygments_lexer": "ipython2",
   "version": "2.7.6"
  }
 },
 "nbformat": 4,
 "nbformat_minor": 0
}
